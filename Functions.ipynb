{
 "cells": [
  {
   "cell_type": "markdown",
   "id": "435f505c",
   "metadata": {},
   "source": [
    "Q1. Which keyword is used to create a function? Create a function to return a list of odd numbers in the\n",
    "range of 1 to 25."
   ]
  },
  {
   "cell_type": "markdown",
   "id": "a33ca2e8",
   "metadata": {},
   "source": [
    "Ans. Def keyword is used to create a function"
   ]
  },
  {
   "cell_type": "code",
   "execution_count": 2,
   "id": "68fe0967",
   "metadata": {},
   "outputs": [
    {
     "name": "stdout",
     "output_type": "stream",
     "text": [
      "Enter starting number1\n",
      "Enter ending number25\n",
      "[1, 3, 5, 7, 9, 11, 13, 15, 17, 19, 21, 23, 25]\n"
     ]
    }
   ],
   "source": [
    "def odd(start ,end):\n",
    "    l=[];\n",
    "    for i in range(start,end+1):\n",
    "        if i%2!=0:\n",
    "            l.append(i)\n",
    "    \n",
    "    return l\n",
    "\n",
    "start = int(input(\"Enter starting number\"))\n",
    "end = int(input(\"Enter ending number\"))\n",
    "l=odd(start,end)\n",
    "print(l)"
   ]
  },
  {
   "cell_type": "markdown",
   "id": "a131d6d8",
   "metadata": {},
   "source": [
    "Q2. Why *args and **kwargs is used in some functions? Create a function each for *args and **kwargs to\n",
    "demonstrate their use."
   ]
  },
  {
   "cell_type": "markdown",
   "id": "db7ba812",
   "metadata": {},
   "source": [
    "Ans. *args is used when number of arguments are going to be send to the function is not confirmed. It store all the arguments in teh tuple\n",
    "**kwargs is used when number of keyword arguments are passed in the function. It store the values in the dictonary"
   ]
  },
  {
   "cell_type": "code",
   "execution_count": 3,
   "id": "be429b31",
   "metadata": {},
   "outputs": [
    {
     "name": "stdout",
     "output_type": "stream",
     "text": [
      "120\n"
     ]
    }
   ],
   "source": [
    "def sum(*args):\n",
    "    total = 0\n",
    "    for i in args:\n",
    "        total = total + i\n",
    "    return total\n",
    "\n",
    "total = sum(5,10,15,25,30,35)\n",
    "print(total)"
   ]
  },
  {
   "cell_type": "code",
   "execution_count": 4,
   "id": "7e78491d",
   "metadata": {},
   "outputs": [
    {
     "name": "stdout",
     "output_type": "stream",
     "text": [
      "name: John\n",
      "age: 30\n",
      "city: New York\n"
     ]
    }
   ],
   "source": [
    "def print_kwargs(**kwargs):\n",
    "    for key, value in kwargs.items():\n",
    "        print(f\"{key}: {value}\")\n",
    "\n",
    "print_kwargs(name='John', age=30, city='New York')\n"
   ]
  },
  {
   "cell_type": "markdown",
   "id": "16451cce",
   "metadata": {},
   "source": [
    "Q3. What is an iterator in python? Name the method used to initialise the iterator object and the method\n",
    "used for iteration. Use these methods to print the first five elements of the given list [2, 4, 6, 8, 10, 12, 14, 16,\n",
    "18, 20]."
   ]
  },
  {
   "cell_type": "markdown",
   "id": "fb15504b",
   "metadata": {},
   "source": [
    "Ans. \n",
    "In Python, an iterator is an object that represents a stream of data. It implements the iterator protocol, which consists of two methods: __iter__() and __next__().\n",
    "\n",
    "The __iter__() method is used to initialize the iterator object. It returns the iterator object itself.\n",
    "The __next__() method is used for iteration. It returns the next element in the stream of data. When there are no more elements, it raises a StopIteration exception."
   ]
  },
  {
   "cell_type": "code",
   "execution_count": 6,
   "id": "325d5ee7",
   "metadata": {},
   "outputs": [
    {
     "name": "stdout",
     "output_type": "stream",
     "text": [
      "2\n",
      "4\n",
      "6\n",
      "8\n",
      "10\n"
     ]
    }
   ],
   "source": [
    "\n",
    "my_list = [2, 4, 6, 8, 10, 12, 14, 16, 18, 20]\n",
    "\n",
    "my_iterator = iter(my_list)\n",
    "\n",
    "\n",
    "for _ in range(5):\n",
    "    print(next(my_iterator))\n"
   ]
  },
  {
   "cell_type": "markdown",
   "id": "73cbebc5",
   "metadata": {},
   "source": [
    "Q4. What is a generator function in python? Why yield keyword is used? Give an example of a generator\n",
    "function."
   ]
  },
  {
   "cell_type": "markdown",
   "id": "39c72088",
   "metadata": {},
   "source": [
    "Ans. A generator function in Python is a special type of function that allows you to generate a sequence of values. Unlike regular functions that return a single value and then exit, generator functions can yield multiple values one at a time. They use the yield keyword instead of return to produce a series of values.The yield keyword is used in generator functions to temporarily suspend execution and yield a value back to the caller. When the generator function is called again, execution resumes from the last yield statement, allowing the function to produce the next value in the sequence."
   ]
  },
  {
   "cell_type": "code",
   "execution_count": 7,
   "id": "3db62bca",
   "metadata": {},
   "outputs": [
    {
     "name": "stdout",
     "output_type": "stream",
     "text": [
      "0\n",
      "2\n",
      "4\n",
      "6\n",
      "8\n"
     ]
    }
   ],
   "source": [
    "def generate_even_numbers(n):\n",
    "    for i in range(n):\n",
    "        if i % 2 == 0:\n",
    "            yield i\n",
    "\n",
    "\n",
    "even_numbers_generator = generate_even_numbers(10)\n",
    "\n",
    "\n",
    "for num in even_numbers_generator:\n",
    "    print(num)\n"
   ]
  },
  {
   "cell_type": "markdown",
   "id": "d1edc0f4",
   "metadata": {},
   "source": [
    "Q5. Create a generator function for prime numbers less than 1000. Use the next() method to print the\n",
    "first 20 prime numbers."
   ]
  },
  {
   "cell_type": "code",
   "execution_count": 8,
   "id": "10ae52d3",
   "metadata": {},
   "outputs": [
    {
     "name": "stdout",
     "output_type": "stream",
     "text": [
      "2\n",
      "3\n",
      "5\n",
      "7\n",
      "11\n",
      "13\n",
      "17\n",
      "19\n",
      "23\n",
      "29\n",
      "31\n",
      "37\n",
      "41\n",
      "43\n",
      "47\n",
      "53\n",
      "59\n",
      "61\n",
      "67\n",
      "71\n"
     ]
    }
   ],
   "source": [
    "def is_prime(num):\n",
    "    if num <= 1:\n",
    "        return False\n",
    "    if num <= 3:\n",
    "        return True\n",
    "    if num % 2 == 0 or num % 3 == 0:\n",
    "        return False\n",
    "    i = 5\n",
    "    while i * i <= num:\n",
    "        if num % i == 0 or num % (i + 2) == 0:\n",
    "            return False\n",
    "        i += 6\n",
    "    return True\n",
    "\n",
    "def generate_primes():\n",
    "    num = 2\n",
    "    while True:\n",
    "        if is_prime(num):\n",
    "            yield num\n",
    "        num += 1\n",
    "\n",
    "prime_generator = generate_primes()\n",
    "\n",
    "for _ in range(20):\n",
    "    print(next(prime_generator))\n"
   ]
  },
  {
   "cell_type": "code",
   "execution_count": null,
   "id": "9216d2cb",
   "metadata": {},
   "outputs": [],
   "source": []
  }
 ],
 "metadata": {
  "kernelspec": {
   "display_name": "Python 3 (ipykernel)",
   "language": "python",
   "name": "python3"
  },
  "language_info": {
   "codemirror_mode": {
    "name": "ipython",
    "version": 3
   },
   "file_extension": ".py",
   "mimetype": "text/x-python",
   "name": "python",
   "nbconvert_exporter": "python",
   "pygments_lexer": "ipython3",
   "version": "3.11.5"
  }
 },
 "nbformat": 4,
 "nbformat_minor": 5
}
