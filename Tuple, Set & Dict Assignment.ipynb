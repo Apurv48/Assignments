{
 "cells": [
  {
   "cell_type": "markdown",
   "id": "0c48b088",
   "metadata": {},
   "source": [
    "Q. What are the characteristics of the tuples? Is tuple immutable?"
   ]
  },
  {
   "cell_type": "markdown",
   "id": "d1371a7a",
   "metadata": {},
   "source": [
    "Ans. Characteristics or tuples are:\n",
    "    1. Ordered\n",
    "    2. Immutable\n",
    "    3. Hetrogenous\n",
    "    4. Iterable\n",
    "\n",
    "Yes, Tuples are immutable as we cannot make changes in the tuples after assigning any values in it."
   ]
  },
  {
   "cell_type": "markdown",
   "id": "b16673ba",
   "metadata": {},
   "source": [
    "Q. What are the two tuple methods in python? Give an example of each method. Give a reason why\n",
    "tuples have only two in-built methods as compared to Lists."
   ]
  },
  {
   "cell_type": "markdown",
   "id": "220e2884",
   "metadata": {},
   "source": [
    "Ans: Two methods of tuples are :\n",
    "        count :- It returns the number of occurence of the of a value in the tuple\n",
    "        index :- This method returns the index of first occurence of the value\n",
    "\n",
    "my_tuple = (1, 2, 3, 2, 4, 2)\n",
    "count_of_2 = my_tuple.count(2)\n",
    "print(\"Count of 2 in the tuple:\", count_of_2) \n",
    "\n",
    "\n",
    "index_of_3 = my_tuple.index(3)\n",
    "print(\"Index of 3 in the tuple:\", index_of_3)\n",
    "\n",
    "Tuples are immutable , simple and efficient in nature due to which it have less build in methods as compared to the list"
   ]
  },
  {
   "cell_type": "markdown",
   "id": "6baebec2",
   "metadata": {},
   "source": [
    "Q.Which collection datatypes in python do not allow duplicate items? Write a code using a set to remove\n",
    "duplicates from the given list."
   ]
  },
  {
   "cell_type": "markdown",
   "id": "08cba965",
   "metadata": {},
   "source": [
    "Ans: Sets are the datatypes which do not allow duplicate items."
   ]
  },
  {
   "cell_type": "code",
   "execution_count": 5,
   "id": "5c50257b",
   "metadata": {},
   "outputs": [
    {
     "name": "stdout",
     "output_type": "stream",
     "text": [
      "[1, 1, 1, 2, 1, 3, 1, 4, 2, 1, 2, 2, 2, 3, 2, 4, 3, 1, 3, 2, 3, 3, 3, 4, 4, 1, 4, 2, 4, 3, 4, 4]\n",
      "{1, 2, 3, 4}\n"
     ]
    }
   ],
   "source": [
    "List = [1, 1, 1, 2, 1, 3, 1, 4, 2, 1, 2, 2, 2, 3, 2, 4, 3, 1, 3, 2, 3, 3, 3, 4, 4, 1, 4, 2, 4, 3, 4, 4]\n",
    "print(List)\n",
    "List = set(List)\n",
    "print(List)"
   ]
  },
  {
   "cell_type": "markdown",
   "id": "d64fbbe8",
   "metadata": {},
   "source": [
    "Q.Explain the difference between the union() and update() methods for a set. Give an example of\n",
    "each method."
   ]
  },
  {
   "cell_type": "markdown",
   "id": "1e8b4c5d",
   "metadata": {},
   "source": [
    "Ans: The union() method returns a new set containing all the unique elements from two or more sets.\n",
    "It doesn't modify the original sets; instead, it returns a new set with the combined unique elements.\n",
    "\n",
    "The update() method modifies the set by adding elements from another set (or any iterable).\n",
    "It operates in-place, directly modifying the original set."
   ]
  },
  {
   "cell_type": "code",
   "execution_count": 6,
   "id": "386a0a65",
   "metadata": {},
   "outputs": [
    {
     "name": "stdout",
     "output_type": "stream",
     "text": [
      "Set 1: {1, 2, 3}\n",
      "Set 2: {3, 4, 5}\n",
      "Union of Set 1 and Set 2: {1, 2, 3, 4, 5}\n"
     ]
    }
   ],
   "source": [
    "set1 = {1, 2, 3}\n",
    "set2 = {3, 4, 5}\n",
    "\n",
    "union_set = set1.union(set2)\n",
    "\n",
    "print(\"Set 1:\", set1)\n",
    "print(\"Set 2:\", set2)\n",
    "print(\"Union of Set 1 and Set 2:\", union_set)"
   ]
  },
  {
   "cell_type": "code",
   "execution_count": 7,
   "id": "33b30c1e",
   "metadata": {},
   "outputs": [
    {
     "name": "stdout",
     "output_type": "stream",
     "text": [
      "Set 1 after updating with Set 2: {1, 2, 3, 4, 5}\n",
      "Set 2: {3, 4, 5}\n"
     ]
    }
   ],
   "source": [
    "set1 = {1, 2, 3}\n",
    "set2 = {3, 4, 5}\n",
    "\n",
    "set1.update(set2)\n",
    "\n",
    "print(\"Set 1 after updating with Set 2:\", set1)\n",
    "print(\"Set 2:\", set2)"
   ]
  },
  {
   "cell_type": "markdown",
   "id": "8f92bf8e",
   "metadata": {},
   "source": [
    "Q. What is a dictionary? Give an example. Also, state whether a dictionary is ordered or unordered."
   ]
  },
  {
   "cell_type": "markdown",
   "id": "fffee181",
   "metadata": {},
   "source": [
    "A dictionary in Python is a collection of key-value pairs, where each key is associated with a value. Dictionaries are mutable, meaning they can be modified after creation. Keys within a dictionary must be unique, but values can be duplicated.\n",
    "Dictionary are ordered"
   ]
  },
  {
   "cell_type": "code",
   "execution_count": 8,
   "id": "d7d6fcb6",
   "metadata": {},
   "outputs": [
    {
     "name": "stdout",
     "output_type": "stream",
     "text": [
      "Name: John\n",
      "Age: 30\n",
      "City: New York\n"
     ]
    }
   ],
   "source": [
    "\n",
    "my_dict = {'name': 'John', 'age': 30, 'city': 'New York'}\n",
    "\n",
    "\n",
    "print(\"Name:\", my_dict['name'])\n",
    "print(\"Age:\", my_dict['age'])    \n",
    "print(\"City:\", my_dict['city'])   "
   ]
  },
  {
   "cell_type": "markdown",
   "id": "c68af680",
   "metadata": {},
   "source": [
    "Q. Can we create a nested dictionary? If so, please give an example by creating a simple one-level\n",
    "nested dictionary."
   ]
  },
  {
   "cell_type": "markdown",
   "id": "665abc79",
   "metadata": {},
   "source": [
    "Yes, we can create a nested dictionary in Python.Ans:  A nested dictionary is a dictionary where the values are themselves dictionaries. This allows for hierarchical data organization."
   ]
  },
  {
   "cell_type": "code",
   "execution_count": 10,
   "id": "6d219086",
   "metadata": {},
   "outputs": [
    {
     "name": "stdout",
     "output_type": "stream",
     "text": [
      "John's age: 25\n",
      "Alice's grade: B\n"
     ]
    }
   ],
   "source": [
    "\n",
    "student_records = {\n",
    "    'John': {'age': 25, 'grade': 'A'},\n",
    "    'Alice': {'age': 23, 'grade': 'B'},\n",
    "    'Bob': {'age': 27, 'grade': 'A'}\n",
    "}\n",
    "\n",
    "print(\"John's age:\", student_records['John']['age'])      \n",
    "print(\"Alice's grade:\", student_records['Alice']['grade'])\n"
   ]
  },
  {
   "cell_type": "markdown",
   "id": "7da3f3a2",
   "metadata": {},
   "source": [
    "Q. Using setdefault() method, create key named topics in the given dictionary and also add the value of\n",
    "the key as this list ['Python', 'Machine Learning’, 'Deep Learning']\n",
    "dict1 = {'language' : 'Python', 'course': 'Data Science Masters'}"
   ]
  },
  {
   "cell_type": "code",
   "execution_count": 11,
   "id": "ff9e9059",
   "metadata": {},
   "outputs": [
    {
     "name": "stdout",
     "output_type": "stream",
     "text": [
      "{'name': 'John', 'age': 30, 'topics': ['Python', 'Machine Learning', 'Deep Learning']}\n"
     ]
    }
   ],
   "source": [
    "Ans: \n",
    "my_dict = {'name': 'John', 'age': 30}\n",
    "\n",
    "my_dict.setdefault('topics', ['Python', 'Machine Learning', 'Deep Learning'])\n",
    "\n",
    "print(my_dict)\n"
   ]
  },
  {
   "cell_type": "markdown",
   "id": "694a4c21",
   "metadata": {},
   "source": [
    "Q. What are the three view objects in dictionaries? Use the three in-built methods in python to display\n",
    "these three view objects for the given dictionary.\n",
    "dict1 = {'Sport': 'Cricket' , 'Teams': ['India', 'Australia', 'England', 'South Africa', 'Sri Lanka', 'New Zealand']}"
   ]
  },
  {
   "cell_type": "markdown",
   "id": "836d935d",
   "metadata": {},
   "source": [
    "Ans: dict_keys: This view object represents the keys of the dictionary.\n",
    "dict_values: This view object represents the values of the dictionary.\n",
    "dict_items: This view object represents the key-value pairs (items) of the dictionary."
   ]
  },
  {
   "cell_type": "code",
   "execution_count": 12,
   "id": "8ee8ae6d",
   "metadata": {},
   "outputs": [
    {
     "name": "stdout",
     "output_type": "stream",
     "text": [
      "dict_keys view object: dict_keys(['Sport', 'Teams'])\n",
      "dict_values view object: dict_values(['Cricket', ['India', 'Australia', 'England', 'South Africa', 'Sri Lanka', 'New Zealand']])\n",
      "dict_items view object: dict_items([('Sport', 'Cricket'), ('Teams', ['India', 'Australia', 'England', 'South Africa', 'Sri Lanka', 'New Zealand'])])\n"
     ]
    }
   ],
   "source": [
    "\n",
    "dict1 = {'Sport': 'Cricket', 'Teams': ['India', 'Australia', 'England', 'South Africa', 'Sri Lanka', 'New Zealand']}\n",
    "\n",
    "\n",
    "keys_view = dict1.keys()\n",
    "print(\"dict_keys view object:\", keys_view)\n",
    "\n",
    "\n",
    "values_view = dict1.values()\n",
    "print(\"dict_values view object:\", values_view)\n",
    "\n",
    "items_view = dict1.items()\n",
    "print(\"dict_items view object:\", items_view)\n"
   ]
  },
  {
   "cell_type": "code",
   "execution_count": null,
   "id": "fe2a2e65",
   "metadata": {},
   "outputs": [],
   "source": []
  }
 ],
 "metadata": {
  "kernelspec": {
   "display_name": "Python 3 (ipykernel)",
   "language": "python",
   "name": "python3"
  },
  "language_info": {
   "codemirror_mode": {
    "name": "ipython",
    "version": 3
   },
   "file_extension": ".py",
   "mimetype": "text/x-python",
   "name": "python",
   "nbconvert_exporter": "python",
   "pygments_lexer": "ipython3",
   "version": "3.11.5"
  }
 },
 "nbformat": 4,
 "nbformat_minor": 5
}
